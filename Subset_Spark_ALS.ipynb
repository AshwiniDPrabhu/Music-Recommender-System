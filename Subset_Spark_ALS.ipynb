{
 "cells": [
  {
   "cell_type": "markdown",
   "metadata": {
    "colab_type": "text",
    "id": "kvD4HBMi0ohY"
   },
   "source": [
    "# Install Java, Spark, and Findspark\n",
    "This installs Apache Spark 2.3.2, Java 8, and [Findspark](https://github.com/minrk/findspark), a library that makes it easy for Python to find Spark."
   ]
  },
  {
   "cell_type": "code",
   "execution_count": 0,
   "metadata": {
    "colab": {},
    "colab_type": "code",
    "id": "fUhBhrGmyAvs"
   },
   "outputs": [],
   "source": [
    "!apt-get install openjdk-8-jdk-headless -qq > /dev/null\n",
    "!wget -q http://www-eu.apache.org/dist/spark/spark-2.4.4/spark-2.4.4-bin-hadoop2.7.tgz\n",
    "!tar xf spark-2.4.4-bin-hadoop2.7.tgz\n",
    "!pip install -q findspark"
   ]
  },
  {
   "cell_type": "code",
   "execution_count": 2,
   "metadata": {
    "colab": {
     "base_uri": "https://localhost:8080/",
     "height": 394
    },
    "colab_type": "code",
    "id": "5hhXcL2PLMGu",
    "outputId": "8af1d1cf-829f-44e6-f837-34f7be8190d1"
   },
   "outputs": [
    {
     "name": "stdout",
     "output_type": "stream",
     "text": [
      "Collecting py4j\n",
      "\u001b[?25l  Downloading https://files.pythonhosted.org/packages/04/de/2d314a921ef4c20b283e1de94e0780273678caac901564df06b948e4ba9b/py4j-0.10.8.1-py2.py3-none-any.whl (196kB)\n",
      "\r",
      "\u001b[K     |█▊                              | 10kB 23.5MB/s eta 0:00:01\r",
      "\u001b[K     |███▍                            | 20kB 27.1MB/s eta 0:00:01\r",
      "\u001b[K     |█████                           | 30kB 32.2MB/s eta 0:00:01\r",
      "\u001b[K     |██████▊                         | 40kB 35.9MB/s eta 0:00:01\r",
      "\u001b[K     |████████▍                       | 51kB 37.5MB/s eta 0:00:01\r",
      "\u001b[K     |██████████                      | 61kB 38.9MB/s eta 0:00:01\r",
      "\u001b[K     |███████████▊                    | 71kB 39.7MB/s eta 0:00:01\r",
      "\u001b[K     |█████████████▍                  | 81kB 40.6MB/s eta 0:00:01\r",
      "\u001b[K     |███████████████                 | 92kB 41.9MB/s eta 0:00:01\r",
      "\u001b[K     |████████████████▊               | 102kB 43.3MB/s eta 0:00:01\r",
      "\u001b[K     |██████████████████▍             | 112kB 43.3MB/s eta 0:00:01\r",
      "\u001b[K     |████████████████████            | 122kB 43.3MB/s eta 0:00:01\r",
      "\u001b[K     |█████████████████████▊          | 133kB 43.3MB/s eta 0:00:01\r",
      "\u001b[K     |███████████████████████▍        | 143kB 43.3MB/s eta 0:00:01\r",
      "\u001b[K     |█████████████████████████       | 153kB 43.3MB/s eta 0:00:01\r",
      "\u001b[K     |██████████████████████████▊     | 163kB 43.3MB/s eta 0:00:01\r",
      "\u001b[K     |████████████████████████████▍   | 174kB 43.3MB/s eta 0:00:01\r",
      "\u001b[K     |██████████████████████████████  | 184kB 43.3MB/s eta 0:00:01\r",
      "\u001b[K     |███████████████████████████████▊| 194kB 43.3MB/s eta 0:00:01\r",
      "\u001b[K     |████████████████████████████████| 204kB 43.3MB/s \n",
      "\u001b[?25hInstalling collected packages: py4j\n",
      "Successfully installed py4j-0.10.8.1\n",
      "Collecting pyspark\n",
      "\u001b[?25l  Downloading https://files.pythonhosted.org/packages/87/21/f05c186f4ddb01d15d0ddc36ef4b7e3cedbeb6412274a41f26b55a650ee5/pyspark-2.4.4.tar.gz (215.7MB)\n",
      "\u001b[K     |████████████████████████████████| 215.7MB 64kB/s \n",
      "\u001b[?25hCollecting py4j==0.10.7\n",
      "\u001b[?25l  Downloading https://files.pythonhosted.org/packages/e3/53/c737818eb9a7dc32a7cd4f1396e787bd94200c3997c72c1dbe028587bd76/py4j-0.10.7-py2.py3-none-any.whl (197kB)\n",
      "\u001b[K     |████████████████████████████████| 204kB 55.2MB/s \n",
      "\u001b[?25hBuilding wheels for collected packages: pyspark\n",
      "  Building wheel for pyspark (setup.py) ... \u001b[?25l\u001b[?25hdone\n",
      "  Created wheel for pyspark: filename=pyspark-2.4.4-py2.py3-none-any.whl size=216130387 sha256=53fa43efd68d50f78561f4969da5668de7ac38fc64910ef99f251a9199228e49\n",
      "  Stored in directory: /root/.cache/pip/wheels/ab/09/4d/0d184230058e654eb1b04467dbc1292f00eaa186544604b471\n",
      "Successfully built pyspark\n",
      "Installing collected packages: py4j, pyspark\n",
      "  Found existing installation: py4j 0.10.8.1\n",
      "    Uninstalling py4j-0.10.8.1:\n",
      "      Successfully uninstalled py4j-0.10.8.1\n",
      "Successfully installed py4j-0.10.7 pyspark-2.4.4\n"
     ]
    }
   ],
   "source": [
    "!pip install py4j\n",
    "!pip install pyspark"
   ]
  },
  {
   "cell_type": "markdown",
   "metadata": {
    "colab_type": "text",
    "id": "b4Kjvk_h1AHl"
   },
   "source": [
    "# Set Environment Variables\n",
    "Set the locations where Spark and Java are installed."
   ]
  },
  {
   "cell_type": "code",
   "execution_count": 0,
   "metadata": {
    "colab": {},
    "colab_type": "code",
    "id": "8Xnb_ePUyQIL"
   },
   "outputs": [],
   "source": [
    "import os\n",
    "os.environ[\"JAVA_HOME\"] = \"/usr/lib/jvm/java-8-openjdk-amd64\"\n",
    "os.environ[\"SPARK_HOME\"] = \"/content/spark-2.4.4-bin-hadoop2.7\""
   ]
  },
  {
   "cell_type": "markdown",
   "metadata": {
    "colab_type": "text",
    "id": "NwU28K5f1H3P"
   },
   "source": [
    "# Start a SparkSession\n",
    "This will start a local Spark session."
   ]
  },
  {
   "cell_type": "code",
   "execution_count": 0,
   "metadata": {
    "colab": {},
    "colab_type": "code",
    "id": "lsMpgjgaAbuI"
   },
   "outputs": [],
   "source": [
    "import os\n",
    "import time"
   ]
  },
  {
   "cell_type": "code",
   "execution_count": 0,
   "metadata": {
    "colab": {},
    "colab_type": "code",
    "id": "b3xI5hrK_p4l"
   },
   "outputs": [],
   "source": [
    "# spark imports\n",
    "from pyspark.sql import SparkSession\n",
    "from pyspark.sql.functions import UserDefinedFunction, explode, desc\n",
    "from pyspark.sql.types import StringType, ArrayType\n",
    "from pyspark.mllib.recommendation import ALS"
   ]
  },
  {
   "cell_type": "code",
   "execution_count": 0,
   "metadata": {
    "colab": {},
    "colab_type": "code",
    "id": "q-m8p5V9AeSp"
   },
   "outputs": [],
   "source": [
    "# data science imports\n",
    "import math\n",
    "import numpy as np\n",
    "import pandas as pd\n",
    "\n",
    "# visualization imports\n",
    "import seaborn as sns\n",
    "import matplotlib.pyplot as plt\n",
    "\n",
    "%matplotlib inline"
   ]
  },
  {
   "cell_type": "code",
   "execution_count": 0,
   "metadata": {
    "colab": {},
    "colab_type": "code",
    "id": "zgReRGl0y23D"
   },
   "outputs": [],
   "source": [
    "import findspark\n",
    "findspark.init(\"spark-2.4.4-bin-hadoop2.7\")# SPARK_HOME\n",
    "\n",
    "from pyspark.sql import SparkSession\n",
    "spark = SparkSession.builder.master(\"local[*]\").getOrCreate()"
   ]
  },
  {
   "cell_type": "code",
   "execution_count": 8,
   "metadata": {
    "colab": {
     "base_uri": "https://localhost:8080/",
     "height": 122
    },
    "colab_type": "code",
    "id": "7kI3tH14nyTG",
    "outputId": "27c9fccd-6925-424e-8699-0fba2b896970"
   },
   "outputs": [
    {
     "name": "stdout",
     "output_type": "stream",
     "text": [
      "Go to this URL in a browser: https://accounts.google.com/o/oauth2/auth?client_id=947318989803-6bn6qk8qdgf4n4g3pfee6491hc0brc4i.apps.googleusercontent.com&redirect_uri=urn%3aietf%3awg%3aoauth%3a2.0%3aoob&response_type=code&scope=email%20https%3a%2f%2fwww.googleapis.com%2fauth%2fdocs.test%20https%3a%2f%2fwww.googleapis.com%2fauth%2fdrive%20https%3a%2f%2fwww.googleapis.com%2fauth%2fdrive.photos.readonly%20https%3a%2f%2fwww.googleapis.com%2fauth%2fpeopleapi.readonly\n",
      "\n",
      "Enter your authorization code:\n",
      "··········\n",
      "Mounted at /content/gdrive\n"
     ]
    }
   ],
   "source": [
    "from google.colab import drive\n",
    "drive.mount('/content/gdrive')"
   ]
  },
  {
   "cell_type": "code",
   "execution_count": 0,
   "metadata": {
    "colab": {},
    "colab_type": "code",
    "id": "PacPhfuan_6r"
   },
   "outputs": [],
   "source": [
    "!cp /content/gdrive/My\\ Drive/MscsDs/msdchallenge/kaggle_visible_evaluation_triplets.txt ."
   ]
  },
  {
   "cell_type": "code",
   "execution_count": 0,
   "metadata": {
    "colab": {},
    "colab_type": "code",
    "id": "3q9GWx_2oFLS"
   },
   "outputs": [],
   "source": [
    "!cp -r /content/gdrive/My\\ Drive/MscsDs/MSongsDB-master/PythonSrc ."
   ]
  },
  {
   "cell_type": "code",
   "execution_count": 0,
   "metadata": {
    "colab": {},
    "colab_type": "code",
    "id": "pyiYETN8oQbG"
   },
   "outputs": [],
   "source": [
    "# ! cd /content/gdrive/My\\ Drive/MscsDs/ && tar -zxvf millionsongsubset_full.tar.gz"
   ]
  },
  {
   "cell_type": "code",
   "execution_count": 11,
   "metadata": {
    "colab": {
     "base_uri": "https://localhost:8080/",
     "height": 204
    },
    "colab_type": "code",
    "id": "MDD5vViroUvk",
    "outputId": "22e8a9e7-3bf7-4294-90cf-d5bfb7708cd0"
   },
   "outputs": [
    {
     "data": {
      "text/html": [
       "<div>\n",
       "<style scoped>\n",
       "    .dataframe tbody tr th:only-of-type {\n",
       "        vertical-align: middle;\n",
       "    }\n",
       "\n",
       "    .dataframe tbody tr th {\n",
       "        vertical-align: top;\n",
       "    }\n",
       "\n",
       "    .dataframe thead th {\n",
       "        text-align: right;\n",
       "    }\n",
       "</style>\n",
       "<table border=\"1\" class=\"dataframe\">\n",
       "  <thead>\n",
       "    <tr style=\"text-align: right;\">\n",
       "      <th></th>\n",
       "      <th>user_id</th>\n",
       "      <th>song_ids</th>\n",
       "      <th>play_count</th>\n",
       "    </tr>\n",
       "  </thead>\n",
       "  <tbody>\n",
       "    <tr>\n",
       "      <th>0</th>\n",
       "      <td>fd50c4007b68a3737fe052d5a4f78ce8aa117f3d</td>\n",
       "      <td>SOBONKR12A58A7A7E0</td>\n",
       "      <td>1</td>\n",
       "    </tr>\n",
       "    <tr>\n",
       "      <th>1</th>\n",
       "      <td>fd50c4007b68a3737fe052d5a4f78ce8aa117f3d</td>\n",
       "      <td>SOEGIYH12A6D4FC0E3</td>\n",
       "      <td>1</td>\n",
       "    </tr>\n",
       "    <tr>\n",
       "      <th>2</th>\n",
       "      <td>fd50c4007b68a3737fe052d5a4f78ce8aa117f3d</td>\n",
       "      <td>SOFLJQZ12A6D4FADA6</td>\n",
       "      <td>1</td>\n",
       "    </tr>\n",
       "    <tr>\n",
       "      <th>3</th>\n",
       "      <td>fd50c4007b68a3737fe052d5a4f78ce8aa117f3d</td>\n",
       "      <td>SOHTKMO12AB01843B0</td>\n",
       "      <td>1</td>\n",
       "    </tr>\n",
       "    <tr>\n",
       "      <th>4</th>\n",
       "      <td>fd50c4007b68a3737fe052d5a4f78ce8aa117f3d</td>\n",
       "      <td>SODQZCY12A6D4F9D11</td>\n",
       "      <td>1</td>\n",
       "    </tr>\n",
       "  </tbody>\n",
       "</table>\n",
       "</div>"
      ],
      "text/plain": [
       "                                    user_id            song_ids  play_count\n",
       "0  fd50c4007b68a3737fe052d5a4f78ce8aa117f3d  SOBONKR12A58A7A7E0           1\n",
       "1  fd50c4007b68a3737fe052d5a4f78ce8aa117f3d  SOEGIYH12A6D4FC0E3           1\n",
       "2  fd50c4007b68a3737fe052d5a4f78ce8aa117f3d  SOFLJQZ12A6D4FADA6           1\n",
       "3  fd50c4007b68a3737fe052d5a4f78ce8aa117f3d  SOHTKMO12AB01843B0           1\n",
       "4  fd50c4007b68a3737fe052d5a4f78ce8aa117f3d  SODQZCY12A6D4F9D11           1"
      ]
     },
     "execution_count": 11,
     "metadata": {
      "tags": []
     },
     "output_type": "execute_result"
    }
   ],
   "source": [
    "users = pd.read_table('./kaggle_visible_evaluation_triplets.txt', sep='\\t', names= ['user_id','song_ids','play_count'])\n",
    "users.head()"
   ]
  },
  {
   "cell_type": "code",
   "execution_count": 17,
   "metadata": {
    "colab": {
     "base_uri": "https://localhost:8080/",
     "height": 204
    },
    "colab_type": "code",
    "id": "poCqPDzGFa14",
    "outputId": "a9fc644e-ee83-46af-ca14-43981a650966"
   },
   "outputs": [
    {
     "data": {
      "text/html": [
       "<div>\n",
       "<style scoped>\n",
       "    .dataframe tbody tr th:only-of-type {\n",
       "        vertical-align: middle;\n",
       "    }\n",
       "\n",
       "    .dataframe tbody tr th {\n",
       "        vertical-align: top;\n",
       "    }\n",
       "\n",
       "    .dataframe thead th {\n",
       "        text-align: right;\n",
       "    }\n",
       "</style>\n",
       "<table border=\"1\" class=\"dataframe\">\n",
       "  <thead>\n",
       "    <tr style=\"text-align: right;\">\n",
       "      <th></th>\n",
       "      <th>song_ids</th>\n",
       "      <th>song_titles</th>\n",
       "      <th>artist_names</th>\n",
       "    </tr>\n",
       "  </thead>\n",
       "  <tbody>\n",
       "    <tr>\n",
       "      <th>0</th>\n",
       "      <td>SONHTWP12A8C142744</td>\n",
       "      <td>Vals '89</td>\n",
       "      <td>Manolis Famellos &amp; I Podilates</td>\n",
       "    </tr>\n",
       "    <tr>\n",
       "      <th>1</th>\n",
       "      <td>SOPIHMB12AC468E0DD</td>\n",
       "      <td>Ghost of the Ocean (Live)</td>\n",
       "      <td>Uriah Heep</td>\n",
       "    </tr>\n",
       "    <tr>\n",
       "      <th>2</th>\n",
       "      <td>SODRPJT12AC468DEF1</td>\n",
       "      <td>The frog song</td>\n",
       "      <td>Alain-François</td>\n",
       "    </tr>\n",
       "    <tr>\n",
       "      <th>3</th>\n",
       "      <td>SOLLOTO12AB01804C6</td>\n",
       "      <td>Deep Blue Sea (Daniel Rossen home recording)</td>\n",
       "      <td>Grizzly Bear</td>\n",
       "    </tr>\n",
       "    <tr>\n",
       "      <th>4</th>\n",
       "      <td>SOCNYGS12AB01832B8</td>\n",
       "      <td>La vérité</td>\n",
       "      <td>Annie Blanchard</td>\n",
       "    </tr>\n",
       "  </tbody>\n",
       "</table>\n",
       "</div>"
      ],
      "text/plain": [
       "             song_ids  ...                    artist_names\n",
       "0  SONHTWP12A8C142744  ...  Manolis Famellos & I Podilates\n",
       "1  SOPIHMB12AC468E0DD  ...                      Uriah Heep\n",
       "2  SODRPJT12AC468DEF1  ...                  Alain-François\n",
       "3  SOLLOTO12AB01804C6  ...                    Grizzly Bear\n",
       "4  SOCNYGS12AB01832B8  ...                 Annie Blanchard\n",
       "\n",
       "[5 rows x 3 columns]"
      ]
     },
     "execution_count": 17,
     "metadata": {
      "tags": []
     },
     "output_type": "execute_result"
    }
   ],
   "source": [
    "nd = pd.read_csv('/content/gdrive/My Drive/MscsDs/MillionSongSubset/msd.csv')\n",
    "nd=nd[['song_ids','song_titles','artist_names']]\n",
    "nd.head()"
   ]
  },
  {
   "cell_type": "code",
   "execution_count": 0,
   "metadata": {
    "colab": {},
    "colab_type": "code",
    "id": "hwFRfTFypgyK"
   },
   "outputs": [],
   "source": [
    "from pandas import DataFrame\n",
    "\n",
    "temp = DataFrame(users, columns= ['user_id', 'song_ids','play_count'])\n",
    "temp = pd.merge(users, nd)"
   ]
  },
  {
   "cell_type": "code",
   "execution_count": 21,
   "metadata": {
    "colab": {
     "base_uri": "https://localhost:8080/",
     "height": 419
    },
    "colab_type": "code",
    "id": "w8UOHK1zFogN",
    "outputId": "aec8c50a-1507-4831-a2dd-6dd758575b77"
   },
   "outputs": [
    {
     "data": {
      "text/html": [
       "<div>\n",
       "<style scoped>\n",
       "    .dataframe tbody tr th:only-of-type {\n",
       "        vertical-align: middle;\n",
       "    }\n",
       "\n",
       "    .dataframe tbody tr th {\n",
       "        vertical-align: top;\n",
       "    }\n",
       "\n",
       "    .dataframe thead th {\n",
       "        text-align: right;\n",
       "    }\n",
       "</style>\n",
       "<table border=\"1\" class=\"dataframe\">\n",
       "  <thead>\n",
       "    <tr style=\"text-align: right;\">\n",
       "      <th></th>\n",
       "      <th>user_id</th>\n",
       "      <th>song_ids</th>\n",
       "      <th>play_count</th>\n",
       "      <th>song_titles</th>\n",
       "      <th>artist_names</th>\n",
       "    </tr>\n",
       "  </thead>\n",
       "  <tbody>\n",
       "    <tr>\n",
       "      <th>0</th>\n",
       "      <td>c34670d9c1718361feb93068a853cead3c95b76a</td>\n",
       "      <td>SOEHWGF12A6D4F8B2B</td>\n",
       "      <td>3</td>\n",
       "      <td>Hips Don't Lie (featuring Wyclef Jean)</td>\n",
       "      <td>Shakira Featuring Wyclef Jean</td>\n",
       "    </tr>\n",
       "    <tr>\n",
       "      <th>1</th>\n",
       "      <td>c759e740af57c477fe358e62ad7b3b1f2f113a2f</td>\n",
       "      <td>SOEHWGF12A6D4F8B2B</td>\n",
       "      <td>6</td>\n",
       "      <td>Hips Don't Lie (featuring Wyclef Jean)</td>\n",
       "      <td>Shakira Featuring Wyclef Jean</td>\n",
       "    </tr>\n",
       "    <tr>\n",
       "      <th>2</th>\n",
       "      <td>8f6e833948caf895a3281ded74ceb32783916e42</td>\n",
       "      <td>SOEHWGF12A6D4F8B2B</td>\n",
       "      <td>1</td>\n",
       "      <td>Hips Don't Lie (featuring Wyclef Jean)</td>\n",
       "      <td>Shakira Featuring Wyclef Jean</td>\n",
       "    </tr>\n",
       "    <tr>\n",
       "      <th>3</th>\n",
       "      <td>8cd07652ccba3754502c8fa8fe809c418fdcdc8f</td>\n",
       "      <td>SOEHWGF12A6D4F8B2B</td>\n",
       "      <td>2</td>\n",
       "      <td>Hips Don't Lie (featuring Wyclef Jean)</td>\n",
       "      <td>Shakira Featuring Wyclef Jean</td>\n",
       "    </tr>\n",
       "    <tr>\n",
       "      <th>4</th>\n",
       "      <td>563e8088cbb8affb096d2334531624a8cf7ff3d2</td>\n",
       "      <td>SOEHWGF12A6D4F8B2B</td>\n",
       "      <td>5</td>\n",
       "      <td>Hips Don't Lie (featuring Wyclef Jean)</td>\n",
       "      <td>Shakira Featuring Wyclef Jean</td>\n",
       "    </tr>\n",
       "    <tr>\n",
       "      <th>...</th>\n",
       "      <td>...</td>\n",
       "      <td>...</td>\n",
       "      <td>...</td>\n",
       "      <td>...</td>\n",
       "      <td>...</td>\n",
       "    </tr>\n",
       "    <tr>\n",
       "      <th>18127</th>\n",
       "      <td>a4a85f48a7d787b6e17ed38001abcd032cb87c6a</td>\n",
       "      <td>SOKLIMD12A8C145AC3</td>\n",
       "      <td>1</td>\n",
       "      <td>Whiskey on the Fire</td>\n",
       "      <td>Aaron Watson</td>\n",
       "    </tr>\n",
       "    <tr>\n",
       "      <th>18128</th>\n",
       "      <td>90bac2ccc1660cf444569f3553e6b141d132b2c3</td>\n",
       "      <td>SONCEJF12AB018581C</td>\n",
       "      <td>1</td>\n",
       "      <td>Jamming</td>\n",
       "      <td>Twinkle Twinkle Little Rock Star</td>\n",
       "    </tr>\n",
       "    <tr>\n",
       "      <th>18129</th>\n",
       "      <td>46a363f17bd4e07d2c607779877baedafc07e7d7</td>\n",
       "      <td>SOKWNWI12A8C13383F</td>\n",
       "      <td>1</td>\n",
       "      <td>Bianca's Midnight Lullaby</td>\n",
       "      <td>Al Di Meola</td>\n",
       "    </tr>\n",
       "    <tr>\n",
       "      <th>18130</th>\n",
       "      <td>8ecfca10c16f046ae53634347d6b9029c40425c0</td>\n",
       "      <td>SONQKDG12A8C130D96</td>\n",
       "      <td>1</td>\n",
       "      <td>Isabel</td>\n",
       "      <td>Juana Molina</td>\n",
       "    </tr>\n",
       "    <tr>\n",
       "      <th>18131</th>\n",
       "      <td>e43d36faeb14c6982e3721a6503ba8978edb9384</td>\n",
       "      <td>SOAWDBP12A8C144CB2</td>\n",
       "      <td>2</td>\n",
       "      <td>Diamond In The Rough</td>\n",
       "      <td>Syl Johnson</td>\n",
       "    </tr>\n",
       "  </tbody>\n",
       "</table>\n",
       "<p>18132 rows × 5 columns</p>\n",
       "</div>"
      ],
      "text/plain": [
       "                                        user_id  ...                      artist_names\n",
       "0      c34670d9c1718361feb93068a853cead3c95b76a  ...     Shakira Featuring Wyclef Jean\n",
       "1      c759e740af57c477fe358e62ad7b3b1f2f113a2f  ...     Shakira Featuring Wyclef Jean\n",
       "2      8f6e833948caf895a3281ded74ceb32783916e42  ...     Shakira Featuring Wyclef Jean\n",
       "3      8cd07652ccba3754502c8fa8fe809c418fdcdc8f  ...     Shakira Featuring Wyclef Jean\n",
       "4      563e8088cbb8affb096d2334531624a8cf7ff3d2  ...     Shakira Featuring Wyclef Jean\n",
       "...                                         ...  ...                               ...\n",
       "18127  a4a85f48a7d787b6e17ed38001abcd032cb87c6a  ...                      Aaron Watson\n",
       "18128  90bac2ccc1660cf444569f3553e6b141d132b2c3  ...  Twinkle Twinkle Little Rock Star\n",
       "18129  46a363f17bd4e07d2c607779877baedafc07e7d7  ...                       Al Di Meola\n",
       "18130  8ecfca10c16f046ae53634347d6b9029c40425c0  ...                      Juana Molina\n",
       "18131  e43d36faeb14c6982e3721a6503ba8978edb9384  ...                       Syl Johnson\n",
       "\n",
       "[18132 rows x 5 columns]"
      ]
     },
     "execution_count": 21,
     "metadata": {
      "tags": []
     },
     "output_type": "execute_result"
    }
   ],
   "source": [
    "temp"
   ]
  },
  {
   "cell_type": "code",
   "execution_count": 22,
   "metadata": {
    "colab": {
     "base_uri": "https://localhost:8080/",
     "height": 390
    },
    "colab_type": "code",
    "id": "nWV9yDHGyOUl",
    "outputId": "73a658da-1c96-4feb-8a6c-edfd0119f53d"
   },
   "outputs": [
    {
     "data": {
      "text/html": [
       "<div>\n",
       "<style scoped>\n",
       "    .dataframe tbody tr th:only-of-type {\n",
       "        vertical-align: middle;\n",
       "    }\n",
       "\n",
       "    .dataframe tbody tr th {\n",
       "        vertical-align: top;\n",
       "    }\n",
       "\n",
       "    .dataframe thead th {\n",
       "        text-align: right;\n",
       "    }\n",
       "</style>\n",
       "<table border=\"1\" class=\"dataframe\">\n",
       "  <thead>\n",
       "    <tr style=\"text-align: right;\">\n",
       "      <th></th>\n",
       "      <th>song_ids</th>\n",
       "      <th>song_id_code</th>\n",
       "    </tr>\n",
       "  </thead>\n",
       "  <tbody>\n",
       "    <tr>\n",
       "      <th>0</th>\n",
       "      <td>SOEHWGF12A6D4F8B2B</td>\n",
       "      <td>253</td>\n",
       "    </tr>\n",
       "    <tr>\n",
       "      <th>1</th>\n",
       "      <td>SOEHWGF12A6D4F8B2B</td>\n",
       "      <td>253</td>\n",
       "    </tr>\n",
       "    <tr>\n",
       "      <th>2</th>\n",
       "      <td>SOEHWGF12A6D4F8B2B</td>\n",
       "      <td>253</td>\n",
       "    </tr>\n",
       "    <tr>\n",
       "      <th>3</th>\n",
       "      <td>SOEHWGF12A6D4F8B2B</td>\n",
       "      <td>253</td>\n",
       "    </tr>\n",
       "    <tr>\n",
       "      <th>4</th>\n",
       "      <td>SOEHWGF12A6D4F8B2B</td>\n",
       "      <td>253</td>\n",
       "    </tr>\n",
       "    <tr>\n",
       "      <th>5</th>\n",
       "      <td>SOEHWGF12A6D4F8B2B</td>\n",
       "      <td>253</td>\n",
       "    </tr>\n",
       "    <tr>\n",
       "      <th>6</th>\n",
       "      <td>SOEHWGF12A6D4F8B2B</td>\n",
       "      <td>253</td>\n",
       "    </tr>\n",
       "    <tr>\n",
       "      <th>7</th>\n",
       "      <td>SOEHWGF12A6D4F8B2B</td>\n",
       "      <td>253</td>\n",
       "    </tr>\n",
       "    <tr>\n",
       "      <th>8</th>\n",
       "      <td>SOEHWGF12A6D4F8B2B</td>\n",
       "      <td>253</td>\n",
       "    </tr>\n",
       "    <tr>\n",
       "      <th>9</th>\n",
       "      <td>SOEHWGF12A6D4F8B2B</td>\n",
       "      <td>253</td>\n",
       "    </tr>\n",
       "    <tr>\n",
       "      <th>10</th>\n",
       "      <td>SOEHWGF12A6D4F8B2B</td>\n",
       "      <td>253</td>\n",
       "    </tr>\n",
       "  </tbody>\n",
       "</table>\n",
       "</div>"
      ],
      "text/plain": [
       "              song_ids  song_id_code\n",
       "0   SOEHWGF12A6D4F8B2B           253\n",
       "1   SOEHWGF12A6D4F8B2B           253\n",
       "2   SOEHWGF12A6D4F8B2B           253\n",
       "3   SOEHWGF12A6D4F8B2B           253\n",
       "4   SOEHWGF12A6D4F8B2B           253\n",
       "5   SOEHWGF12A6D4F8B2B           253\n",
       "6   SOEHWGF12A6D4F8B2B           253\n",
       "7   SOEHWGF12A6D4F8B2B           253\n",
       "8   SOEHWGF12A6D4F8B2B           253\n",
       "9   SOEHWGF12A6D4F8B2B           253\n",
       "10  SOEHWGF12A6D4F8B2B           253"
      ]
     },
     "execution_count": 22,
     "metadata": {
      "tags": []
     },
     "output_type": "execute_result"
    }
   ],
   "source": [
    "from sklearn.preprocessing import LabelEncoder\n",
    "\n",
    "frame = temp\n",
    "lb_make = LabelEncoder()\n",
    "frame[\"user_id_code\"] = lb_make.fit_transform(frame[\"user_id\"])\n",
    "frame[[\"user_id\", \"user_id_code\"]].head(11)\n",
    "\n",
    "lb_make2 = LabelEncoder()\n",
    "frame[\"song_id_code\"] = lb_make2.fit_transform(frame[\"song_ids\"])\n",
    "frame[[\"song_ids\", \"song_id_code\"]].head(11)\n"
   ]
  },
  {
   "cell_type": "code",
   "execution_count": 23,
   "metadata": {
    "colab": {
     "base_uri": "https://localhost:8080/",
     "height": 521
    },
    "colab_type": "code",
    "id": "urnaD1IpyZZ6",
    "outputId": "251fd7bb-dba3-44e3-9dc8-352220068fd6"
   },
   "outputs": [
    {
     "data": {
      "text/html": [
       "<div>\n",
       "<style scoped>\n",
       "    .dataframe tbody tr th:only-of-type {\n",
       "        vertical-align: middle;\n",
       "    }\n",
       "\n",
       "    .dataframe tbody tr th {\n",
       "        vertical-align: top;\n",
       "    }\n",
       "\n",
       "    .dataframe thead th {\n",
       "        text-align: right;\n",
       "    }\n",
       "</style>\n",
       "<table border=\"1\" class=\"dataframe\">\n",
       "  <thead>\n",
       "    <tr style=\"text-align: right;\">\n",
       "      <th></th>\n",
       "      <th>user_id</th>\n",
       "      <th>song_ids</th>\n",
       "      <th>play_count</th>\n",
       "      <th>song_titles</th>\n",
       "      <th>artist_names</th>\n",
       "      <th>user_id_code</th>\n",
       "      <th>song_id_code</th>\n",
       "    </tr>\n",
       "  </thead>\n",
       "  <tbody>\n",
       "    <tr>\n",
       "      <th>0</th>\n",
       "      <td>c34670d9c1718361feb93068a853cead3c95b76a</td>\n",
       "      <td>SOEHWGF12A6D4F8B2B</td>\n",
       "      <td>3</td>\n",
       "      <td>Hips Don't Lie (featuring Wyclef Jean)</td>\n",
       "      <td>Shakira Featuring Wyclef Jean</td>\n",
       "      <td>12353</td>\n",
       "      <td>253</td>\n",
       "    </tr>\n",
       "    <tr>\n",
       "      <th>1</th>\n",
       "      <td>c759e740af57c477fe358e62ad7b3b1f2f113a2f</td>\n",
       "      <td>SOEHWGF12A6D4F8B2B</td>\n",
       "      <td>6</td>\n",
       "      <td>Hips Don't Lie (featuring Wyclef Jean)</td>\n",
       "      <td>Shakira Featuring Wyclef Jean</td>\n",
       "      <td>12610</td>\n",
       "      <td>253</td>\n",
       "    </tr>\n",
       "    <tr>\n",
       "      <th>2</th>\n",
       "      <td>8f6e833948caf895a3281ded74ceb32783916e42</td>\n",
       "      <td>SOEHWGF12A6D4F8B2B</td>\n",
       "      <td>1</td>\n",
       "      <td>Hips Don't Lie (featuring Wyclef Jean)</td>\n",
       "      <td>Shakira Featuring Wyclef Jean</td>\n",
       "      <td>8967</td>\n",
       "      <td>253</td>\n",
       "    </tr>\n",
       "    <tr>\n",
       "      <th>3</th>\n",
       "      <td>8cd07652ccba3754502c8fa8fe809c418fdcdc8f</td>\n",
       "      <td>SOEHWGF12A6D4F8B2B</td>\n",
       "      <td>2</td>\n",
       "      <td>Hips Don't Lie (featuring Wyclef Jean)</td>\n",
       "      <td>Shakira Featuring Wyclef Jean</td>\n",
       "      <td>8818</td>\n",
       "      <td>253</td>\n",
       "    </tr>\n",
       "    <tr>\n",
       "      <th>4</th>\n",
       "      <td>563e8088cbb8affb096d2334531624a8cf7ff3d2</td>\n",
       "      <td>SOEHWGF12A6D4F8B2B</td>\n",
       "      <td>5</td>\n",
       "      <td>Hips Don't Lie (featuring Wyclef Jean)</td>\n",
       "      <td>Shakira Featuring Wyclef Jean</td>\n",
       "      <td>5387</td>\n",
       "      <td>253</td>\n",
       "    </tr>\n",
       "    <tr>\n",
       "      <th>...</th>\n",
       "      <td>...</td>\n",
       "      <td>...</td>\n",
       "      <td>...</td>\n",
       "      <td>...</td>\n",
       "      <td>...</td>\n",
       "      <td>...</td>\n",
       "      <td>...</td>\n",
       "    </tr>\n",
       "    <tr>\n",
       "      <th>18127</th>\n",
       "      <td>a4a85f48a7d787b6e17ed38001abcd032cb87c6a</td>\n",
       "      <td>SOKLIMD12A8C145AC3</td>\n",
       "      <td>1</td>\n",
       "      <td>Whiskey on the Fire</td>\n",
       "      <td>Aaron Watson</td>\n",
       "      <td>10359</td>\n",
       "      <td>587</td>\n",
       "    </tr>\n",
       "    <tr>\n",
       "      <th>18128</th>\n",
       "      <td>90bac2ccc1660cf444569f3553e6b141d132b2c3</td>\n",
       "      <td>SONCEJF12AB018581C</td>\n",
       "      <td>1</td>\n",
       "      <td>Jamming</td>\n",
       "      <td>Twinkle Twinkle Little Rock Star</td>\n",
       "      <td>9043</td>\n",
       "      <td>703</td>\n",
       "    </tr>\n",
       "    <tr>\n",
       "      <th>18129</th>\n",
       "      <td>46a363f17bd4e07d2c607779877baedafc07e7d7</td>\n",
       "      <td>SOKWNWI12A8C13383F</td>\n",
       "      <td>1</td>\n",
       "      <td>Bianca's Midnight Lullaby</td>\n",
       "      <td>Al Di Meola</td>\n",
       "      <td>4427</td>\n",
       "      <td>604</td>\n",
       "    </tr>\n",
       "    <tr>\n",
       "      <th>18130</th>\n",
       "      <td>8ecfca10c16f046ae53634347d6b9029c40425c0</td>\n",
       "      <td>SONQKDG12A8C130D96</td>\n",
       "      <td>1</td>\n",
       "      <td>Isabel</td>\n",
       "      <td>Juana Molina</td>\n",
       "      <td>8927</td>\n",
       "      <td>725</td>\n",
       "    </tr>\n",
       "    <tr>\n",
       "      <th>18131</th>\n",
       "      <td>e43d36faeb14c6982e3721a6503ba8978edb9384</td>\n",
       "      <td>SOAWDBP12A8C144CB2</td>\n",
       "      <td>2</td>\n",
       "      <td>Diamond In The Rough</td>\n",
       "      <td>Syl Johnson</td>\n",
       "      <td>14389</td>\n",
       "      <td>44</td>\n",
       "    </tr>\n",
       "  </tbody>\n",
       "</table>\n",
       "<p>18132 rows × 7 columns</p>\n",
       "</div>"
      ],
      "text/plain": [
       "                                        user_id  ... song_id_code\n",
       "0      c34670d9c1718361feb93068a853cead3c95b76a  ...          253\n",
       "1      c759e740af57c477fe358e62ad7b3b1f2f113a2f  ...          253\n",
       "2      8f6e833948caf895a3281ded74ceb32783916e42  ...          253\n",
       "3      8cd07652ccba3754502c8fa8fe809c418fdcdc8f  ...          253\n",
       "4      563e8088cbb8affb096d2334531624a8cf7ff3d2  ...          253\n",
       "...                                         ...  ...          ...\n",
       "18127  a4a85f48a7d787b6e17ed38001abcd032cb87c6a  ...          587\n",
       "18128  90bac2ccc1660cf444569f3553e6b141d132b2c3  ...          703\n",
       "18129  46a363f17bd4e07d2c607779877baedafc07e7d7  ...          604\n",
       "18130  8ecfca10c16f046ae53634347d6b9029c40425c0  ...          725\n",
       "18131  e43d36faeb14c6982e3721a6503ba8978edb9384  ...           44\n",
       "\n",
       "[18132 rows x 7 columns]"
      ]
     },
     "execution_count": 23,
     "metadata": {
      "tags": []
     },
     "output_type": "execute_result"
    }
   ],
   "source": [
    "frame"
   ]
  },
  {
   "cell_type": "code",
   "execution_count": 0,
   "metadata": {
    "colab": {},
    "colab_type": "code",
    "id": "CQaWupmeyiWr"
   },
   "outputs": [],
   "source": [
    "export_csv = frame.to_csv (r'./triplets.csv', index = None, header=True)"
   ]
  },
  {
   "cell_type": "code",
   "execution_count": 0,
   "metadata": {
    "colab": {},
    "colab_type": "code",
    "id": "r-8o3ceGpgiM"
   },
   "outputs": [],
   "source": [
    "# spark imports\n",
    "from pyspark.ml.feature import StringIndexer\n",
    "from pyspark.ml import Pipeline\n",
    "from pyspark.sql.functions import col\n",
    "from pyspark.ml.evaluation import RegressionEvaluator\n",
    "from pyspark.ml.recommendation import ALS\n",
    "from pyspark.sql import SparkSession\n",
    "from pyspark.sql.functions import UserDefinedFunction, explode, desc\n",
    "from pyspark.sql.types import StringType, ArrayType"
   ]
  },
  {
   "cell_type": "code",
   "execution_count": 0,
   "metadata": {
    "colab": {},
    "colab_type": "code",
    "id": "-d4BjZ-ipoVm"
   },
   "outputs": [],
   "source": [
    "spark = SparkSession \\\n",
    "    .builder \\\n",
    "    .appName(\"Music Recommender System\") \\\n",
    "    .config(\"spark.driver.maxResultSize\", \"96g\") \\\n",
    "    .config(\"spark.driver.memory\", \"96g\") \\\n",
    "    .config(\"spark.executor.memory\", \"8g\") \\\n",
    "    .config(\"spark.master\", \"local[12]\") \\\n",
    "    .getOrCreate()\n",
    "# get spark context\n",
    "sc = spark.sparkContext"
   ]
  },
  {
   "cell_type": "code",
   "execution_count": 27,
   "metadata": {
    "colab": {
     "base_uri": "https://localhost:8080/",
     "height": 309
    },
    "colab_type": "code",
    "id": "85GstFIJpqHy",
    "outputId": "7cd3afca-5d7a-4488-e0ee-b315bcd78080"
   },
   "outputs": [
    {
     "name": "stdout",
     "output_type": "stream",
     "text": [
      "+----------------------------------------+------------------+----------+--------------------------------------+-----------------------------+------------+------------+\n",
      "|user_id                                 |song_ids          |play_count|song_titles                           |artist_names                 |user_id_code|song_id_code|\n",
      "+----------------------------------------+------------------+----------+--------------------------------------+-----------------------------+------------+------------+\n",
      "|c34670d9c1718361feb93068a853cead3c95b76a|SOEHWGF12A6D4F8B2B|3         |Hips Don't Lie (featuring Wyclef Jean)|Shakira Featuring Wyclef Jean|12353       |253         |\n",
      "|c759e740af57c477fe358e62ad7b3b1f2f113a2f|SOEHWGF12A6D4F8B2B|6         |Hips Don't Lie (featuring Wyclef Jean)|Shakira Featuring Wyclef Jean|12610       |253         |\n",
      "|8f6e833948caf895a3281ded74ceb32783916e42|SOEHWGF12A6D4F8B2B|1         |Hips Don't Lie (featuring Wyclef Jean)|Shakira Featuring Wyclef Jean|8967        |253         |\n",
      "|8cd07652ccba3754502c8fa8fe809c418fdcdc8f|SOEHWGF12A6D4F8B2B|2         |Hips Don't Lie (featuring Wyclef Jean)|Shakira Featuring Wyclef Jean|8818        |253         |\n",
      "|563e8088cbb8affb096d2334531624a8cf7ff3d2|SOEHWGF12A6D4F8B2B|5         |Hips Don't Lie (featuring Wyclef Jean)|Shakira Featuring Wyclef Jean|5387        |253         |\n",
      "|4a76d0d9066dd57060f34f5d9deab05a0e68c8a5|SOEHWGF12A6D4F8B2B|2         |Hips Don't Lie (featuring Wyclef Jean)|Shakira Featuring Wyclef Jean|4671        |253         |\n",
      "|82bc6c3eb139e7b024f085e1077675a4aef12476|SOEHWGF12A6D4F8B2B|1         |Hips Don't Lie (featuring Wyclef Jean)|Shakira Featuring Wyclef Jean|8219        |253         |\n",
      "|8a8c72ac345403e91362d091db48a700a3d1a6c3|SOEHWGF12A6D4F8B2B|1         |Hips Don't Lie (featuring Wyclef Jean)|Shakira Featuring Wyclef Jean|8679        |253         |\n",
      "|e5831bac6afc67cd5241fdd9997f91ddcdd10c8f|SOEHWGF12A6D4F8B2B|2         |Hips Don't Lie (featuring Wyclef Jean)|Shakira Featuring Wyclef Jean|14459       |253         |\n",
      "|9655d1fb5c212be843a4e13505add9c4c8d0e648|SOEHWGF12A6D4F8B2B|2         |Hips Don't Lie (featuring Wyclef Jean)|Shakira Featuring Wyclef Jean|9425        |253         |\n",
      "+----------------------------------------+------------------+----------+--------------------------------------+-----------------------------+------------+------------+\n",
      "only showing top 10 rows\n",
      "\n"
     ]
    }
   ],
   "source": [
    "df = spark.read.load('./triplets.csv', format='csv', header=True, inferSchema=True)\n",
    "df.show(10, truncate=False)"
   ]
  },
  {
   "cell_type": "code",
   "execution_count": 0,
   "metadata": {
    "colab": {},
    "colab_type": "code",
    "id": "-w67_jL8qQTo"
   },
   "outputs": [],
   "source": [
    "# indexer = [StringIndexer(inputCol=column, outputCol=column+\"_index\") for column in list(set(df.columns)-set(['overall'])) ]\n",
    "# pipeline = Pipeline(stages=indexer)\n",
    "# transformed = pipeline.fit(df).transform(df)\n",
    "# transformed.show(truncate=False)"
   ]
  },
  {
   "cell_type": "code",
   "execution_count": 0,
   "metadata": {
    "colab": {},
    "colab_type": "code",
    "id": "zvofnE_gR8UM"
   },
   "outputs": [],
   "source": [
    "# user = list(transformed.select('user_id_index').distinct().sort(transformed[\"user_id_index\"])) # Get our unique customers\n",
    "# song = list(transformed.select('song_ids_index').distinct().sort(transformed[\"song_ids_index\"])) # Get our unique products that were purchased\n",
    "# playCount = list(transformed.select('play_count')) # All of our purchases\n",
    "\n",
    "# # rows = transformed.select('user_id_index').astype('category', categories = user).cat.codes \n",
    "# # # Get the associated row indices\n",
    "# # cols = transformed.song_ids_index.astype('category', categories = song).cat.codes \n",
    "# # Get the associated column indices\n",
    "# # playCount_sparse = sparse.csr_matrix((playCount, (user, song)), shape=(len(user), len(song)))\n"
   ]
  },
  {
   "cell_type": "code",
   "execution_count": 0,
   "metadata": {
    "colab": {},
    "colab_type": "code",
    "id": "OV2o-FcW_1Td"
   },
   "outputs": [],
   "source": [
    "(training,test)=df.randomSplit([0.8, 0.2])"
   ]
  },
  {
   "cell_type": "code",
   "execution_count": 0,
   "metadata": {
    "colab": {},
    "colab_type": "code",
    "id": "dVzUftH1UwtU"
   },
   "outputs": [],
   "source": [
    "als=ALS(maxIter=5, regParam=0.09,rank=25,userCol=\"user_id_code\",itemCol=\"song_id_code\",ratingCol=\"play_count\",coldStartStrategy=\"drop\",nonnegative=True)\n",
    "model=als.fit(training)"
   ]
  },
  {
   "cell_type": "code",
   "execution_count": 30,
   "metadata": {
    "colab": {
     "base_uri": "https://localhost:8080/",
     "height": 989
    },
    "colab_type": "code",
    "id": "AUHd8hwJV3OD",
    "outputId": "270f19b6-e723-40b3-98da-8625499406b5"
   },
   "outputs": [
    {
     "name": "stdout",
     "output_type": "stream",
     "text": [
      "+----------------------------------------+------------------+----------+----------------------------------------+----------------------------------------------+------------+------------+----------+\n",
      "|user_id                                 |song_ids          |play_count|song_titles                             |artist_names                                  |user_id_code|song_id_code|prediction|\n",
      "+----------------------------------------+------------------+----------+----------------------------------------+----------------------------------------------+------------+------------+----------+\n",
      "|e9540efbbef64e43274b9243242a6b7805d9ea23|SOQHTUT12A8AE475F2|1         |Let It Go                               |Kirk Franklin with tobyMac & Sonny (of P.O.D.)|14669       |833         |0.45323807|\n",
      "|50b6af13a2dab6f62d6fcb40857e6858cb1d277a|SOQHTUT12A8AE475F2|1         |Let It Go                               |Kirk Franklin with tobyMac & Sonny (of P.O.D.)|5026        |833         |0.14361864|\n",
      "|6b7325774444b6833a431c6568ecc1a1dc13137e|SOHCYND12AF72A3CD9|2         |Deliverance                             |Sick Puppies                                  |6718        |392         |0.18159722|\n",
      "|5676285d65ae3916cffc7306e4cdd57e87a19564|SOHCYND12AF72A3CD9|2         |Deliverance                             |Sick Puppies                                  |5400        |392         |0.12738255|\n",
      "|13107c1047c7aa78b77abdd569c5a8a2d0656f4b|SOHCYND12AF72A3CD9|1         |Deliverance                             |Sick Puppies                                  |1213        |392         |0.3783775 |\n",
      "|f730ace25b605210df87b2f8f7e786098f2e9bdc|SOHCYND12AF72A3CD9|1         |Deliverance                             |Sick Puppies                                  |15522       |392         |0.09791306|\n",
      "|db4a617f8b2591dd9c9fb4fc3cacc6fc4664301e|SORNVVT12AF72A0C39|1         |Intro 2/ Kick Out The Jams (LP Version) |MC5                                           |13831       |897         |4.464061  |\n",
      "|7570c8d981604a55303eabae535d4893c9d88ed3|SOWGZFG12A8151AF41|3         |Monsoon                                 |Jack Johnson                                  |7365        |1139        |0.6967279 |\n",
      "|c79757a61275da9490f190ce26839bce70051223|SOWGZFG12A8151AF41|1         |Monsoon                                 |Jack Johnson                                  |12636       |1139        |0.43220574|\n",
      "|aa8e076a5bb5d588640cb44475538115dd00e734|SOBCKIM12A8C13936C|2         |Pero Me Acuerdo De Tí                   |Christina Aguilera                            |10739       |65          |0.20451252|\n",
      "|66b888018aaa0c9650e57695a7a280b5c8439cde|SOBCKIM12A8C13936C|2         |Pero Me Acuerdo De Tí                   |Christina Aguilera                            |6384        |65          |0.20208909|\n",
      "|9fcad0a2a2e70d2b5c08d636c1f832a6cd1787c5|SOBCKIM12A8C13936C|5         |Pero Me Acuerdo De Tí                   |Christina Aguilera                            |10044       |65          |0.24047722|\n",
      "|cc08a89168e4626e96c4add2741428cc6bb9580f|SOBCKIM12A8C13936C|1         |Pero Me Acuerdo De Tí                   |Christina Aguilera                            |12898       |65          |0.46032727|\n",
      "|866852a40ef28805eb08345db0ea5f83298dff33|SOPOPLW12A8C13A905|2         |Umbrella                                |All Time Low                                  |8438        |804         |0.7917186 |\n",
      "|77e9be7a7aeb763c7281f175af5b0f8e137ef05e|SOWQTQZ12A58A7B63E|6         |Streets On Fire (Explicit Album Version)|Lupe Fiasco                                   |7530        |1157        |3.3458128 |\n",
      "|feb4add07933d0513582357eb37acfaffdd6c1ed|SOWQTQZ12A58A7B63E|13        |Streets On Fire (Explicit Album Version)|Lupe Fiasco                                   |16002       |1157        |7.806897  |\n",
      "|03b5cdbea481827ebe9be7e1834f3926039478fd|SOWQTQZ12A58A7B63E|2         |Streets On Fire (Explicit Album Version)|Lupe Fiasco                                   |246         |1157        |0.55763555|\n",
      "|8f8718a02b26e245271e4c97cd1bd879d3a906ab|SOWQTQZ12A58A7B63E|1         |Streets On Fire (Explicit Album Version)|Lupe Fiasco                                   |8975        |1157        |0.7940686 |\n",
      "|8caa525aa6d5e4b3ca496ef66474cb13b940d167|SOWQTQZ12A58A7B63E|1         |Streets On Fire (Explicit Album Version)|Lupe Fiasco                                   |8802        |1157        |1.1152711 |\n",
      "|a8d16acb9faa12319d1f02c608e152499a49bbc4|SOWQTQZ12A58A7B63E|1         |Streets On Fire (Explicit Album Version)|Lupe Fiasco                                   |10616       |1157        |1.2735506 |\n",
      "|ba52d1f72421e85d8ec9a7710fa241701789e95d|SOWQTQZ12A58A7B63E|1         |Streets On Fire (Explicit Album Version)|Lupe Fiasco                                   |11797       |1157        |0.7973523 |\n",
      "|fbb95b3033414a8c1eca2f84e2a2a06c566b5419|SOQMWJG12A6701E1AC|1         |Mistadobalina                           |Del Tha Funkee Homosapien                     |15815       |853         |0.32017633|\n",
      "|810763837886194a5a29369fbf90e2c94c69f8ec|SOBJUKG12A58A7DCA8|3         |Two Hearts                              |Phil Collins                                  |8082        |78          |2.3471355 |\n",
      "|7f6b98f36f7d8ab61bc7369ba7e852dc68cff13d|SOBJUKG12A58A7DCA8|1         |Two Hearts                              |Phil Collins                                  |7985        |78          |2.5378666 |\n",
      "|3df157f6460ccd6c5d2e7668f346b3aacec3cee0|SOSYKKS12A8C1388DF|3         |I've Been Missin' You                   |Kenny G                                       |3859        |961         |1.7619411 |\n",
      "|aeb1c5c11b789ff1a539df055ef98d3e74ba9c15|SOSYKKS12A8C1388DF|1         |I've Been Missin' You                   |Kenny G                                       |10998       |961         |0.06636223|\n",
      "|79bc03969de1477795a38424217ce64b3c6fea8a|SOGRXZY12A8C139043|2         |Thrill Me                               |Simply Red                                    |7635        |375         |3.0921402 |\n",
      "|0dfda19a8fe30d8d73dc7877b71274b5288ec4c4|SOSQIHH12A8C13370B|6         |15 Step                                 |Radiohead                                     |898         |950         |0.50227386|\n",
      "|8aeeb65f0268b7a05000e6d3134ce90556a5bc59|SOSQIHH12A8C13370B|1         |15 Step                                 |Radiohead                                     |8701        |950         |0.17800006|\n",
      "|5b88f92853699ce0e2f01c94811e9b4b738bbc56|SOSQIHH12A8C13370B|5         |15 Step                                 |Radiohead                                     |5708        |950         |0.12803972|\n",
      "|a4f7814a2d41fe3ee56d4d9ec61065c0eb4e34c2|SOSQIHH12A8C13370B|5         |15 Step                                 |Radiohead                                     |10376       |950         |0.40219158|\n",
      "|b2084be1b2af9e87342c4f50afc38aa60262e143|SOSQIHH12A8C13370B|1         |15 Step                                 |Radiohead                                     |11211       |950         |0.2892505 |\n",
      "|00a36168ed80334a6816e1feefd5b40aba212e31|SOSQIHH12A8C13370B|1         |15 Step                                 |Radiohead                                     |39          |950         |0.76593107|\n",
      "|67156d29151420f8dc1a07c4ffb0503cd68e6af2|SOSQIHH12A8C13370B|1         |15 Step                                 |Radiohead                                     |6408        |950         |0.39203826|\n",
      "|d68df3e077f0f7186a253b9d7fbc46bbab9729c7|SOSQIHH12A8C13370B|1         |15 Step                                 |Radiohead                                     |13550       |950         |0.21767785|\n",
      "|a27b290959968b0a68fc0413c68168abc42862cb|SOSQIHH12A8C13370B|6         |15 Step                                 |Radiohead                                     |10226       |950         |0.26897588|\n",
      "|9a25d037f6baa53e68718ad5a1efa29eee5f616b|SOSQIHH12A8C13370B|2         |15 Step                                 |Radiohead                                     |9681        |950         |1.088389  |\n",
      "|4754b7dd2044458b395bc48e0234ac15e6866db9|SOSQIHH12A8C13370B|1         |15 Step                                 |Radiohead                                     |4479        |950         |0.37529486|\n",
      "|ed4cc725685df08ccf7b91c41849593c635cf472|SOSQIHH12A8C13370B|1         |15 Step                                 |Radiohead                                     |14894       |950         |0.18009022|\n",
      "|bc18fe85c530d64b1f3f3ec379d99101ca514335|SOSQIHH12A8C13370B|1         |15 Step                                 |Radiohead                                     |11926       |950         |1.0580803 |\n",
      "|6fc14b3e06c448a9d5d7a62c3690e7f6a82ac5a7|SOCGOZK12A8151BD5D|1         |Fake Tales Of San Francisco             |Arctic Monkeys                                |6997        |126         |0.5295702 |\n",
      "|67b96f36e135b5f8bb2b225df02b3ab3b60a53c1|SOCGOZK12A8151BD5D|1         |Fake Tales Of San Francisco             |Arctic Monkeys                                |6453        |126         |1.1715788 |\n",
      "|4c82312f9bbcc5959d3488629f84f13511942f81|SOCGOZK12A8151BD5D|2         |Fake Tales Of San Francisco             |Arctic Monkeys                                |4769        |126         |0.25347772|\n",
      "|81ed9ee674cc9629c312241d63385b070459077e|SOCGOZK12A8151BD5D|1         |Fake Tales Of San Francisco             |Arctic Monkeys                                |8148        |126         |0.65165347|\n",
      "|c09b819115c01fe81a1a05be3dc4e584d204c662|SOCGOZK12A8151BD5D|2         |Fake Tales Of San Francisco             |Arctic Monkeys                                |12188       |126         |2.1347234 |\n",
      "|7d3132b7aa8341f5d7515fb59e38f03d7f068082|SOOGKOY12B34F33114|5         |Refuge                                  |Matisyahu                                     |7847        |756         |0.6455815 |\n",
      "|fbcf8182103b622c489933422f64e9b57e10c020|SOOGKOY12B34F33114|2         |Refuge                                  |Matisyahu                                     |15822       |756         |1.5800511 |\n",
      "|05cc826cf9112e83d84f1cecd44fc0e527b047fd|SOQLNEY12B0B8062FA|2         |Dancing Shoes                           |Arctic Monkeys                                |368         |847         |0.70986754|\n",
      "|47f2b4e16751254b0c0545328e77c5e4d249c1ce|SOQLNEY12B0B8062FA|9         |Dancing Shoes                           |Arctic Monkeys                                |4521        |847         |0.48080844|\n",
      "|b154143628bfdc0efc14e0229cad21a18a9cf4ad|SOQLNEY12B0B8062FA|1         |Dancing Shoes                           |Arctic Monkeys                                |11168       |847         |0.48080844|\n",
      "+----------------------------------------+------------------+----------+----------------------------------------+----------------------------------------------+------------+------------+----------+\n",
      "only showing top 50 rows\n",
      "\n"
     ]
    }
   ],
   "source": [
    "evaluator=RegressionEvaluator(metricName=\"rmse\",labelCol=\"play_count\",predictionCol=\"prediction\")\n",
    "predictions=model.transform(test)\n",
    "predictions.show(50, truncate = False)"
   ]
  },
  {
   "cell_type": "code",
   "execution_count": 0,
   "metadata": {
    "colab": {},
    "colab_type": "code",
    "id": "ELdFbYzQN6mO"
   },
   "outputs": [],
   "source": [
    "rmse = evaluator.evaluate(predictions)"
   ]
  },
  {
   "cell_type": "code",
   "execution_count": 44,
   "metadata": {
    "colab": {
     "base_uri": "https://localhost:8080/",
     "height": 34
    },
    "colab_type": "code",
    "id": "uIG74SmqaVmo",
    "outputId": "90f2d36a-aeea-467d-f9e5-f14db4dd9156"
   },
   "outputs": [
    {
     "name": "stdout",
     "output_type": "stream",
     "text": [
      "Root-mean-square error = 5.517126413712533\n"
     ]
    }
   ],
   "source": [
    "print(\"Root-mean-square error = \" + str(rmse))"
   ]
  },
  {
   "cell_type": "code",
   "execution_count": 0,
   "metadata": {
    "colab": {
     "base_uri": "https://localhost:8080/",
     "height": 309
    },
    "colab_type": "code",
    "id": "ZkcnWBalB84v",
    "outputId": "efe636ea-059e-4ec8-a37b-ea0f7b5a6be0"
   },
   "outputs": [
    {
     "name": "stdout",
     "output_type": "stream",
     "text": [
      "+-------------+-------------------------------------------------------------------------------------------------------------------------------------------------------------------------------------------------------------+\n",
      "|user_id_index|recommendations                                                                                                                                                                                              |\n",
      "+-------------+-------------------------------------------------------------------------------------------------------------------------------------------------------------------------------------------------------------+\n",
      "|148          |[[132559, 128.63263], [147680, 83.976524], [66419, 82.88117], [125845, 76.72285], [82226, 76.19292], [39411, 76.14007], [162509, 75.64509], [99909, 63.91176], [98323, 63.563046], [117480, 62.751663]]      |\n",
      "|463          |[[50694, 81.836334], [39411, 64.48308], [147680, 64.23534], [122151, 61.286102], [91642, 56.230762], [18266, 45.621635], [132559, 45.549026], [162509, 43.640633], [125845, 39.744972], [28504, 38.03746]]   |\n",
      "|471          |[[91642, 166.9629], [90521, 82.83951], [118079, 81.80899], [90425, 70.81573], [28504, 69.14364], [125845, 65.72644], [130593, 63.165348], [147680, 60.90121], [123867, 60.728004], [116217, 54.02317]]       |\n",
      "|496          |[[98323, 561.9435], [159673, 237.96635], [29924, 204.07669], [130289, 202.01738], [162509, 188.40092], [64530, 180.07327], [96723, 176.96783], [47412, 176.5399], [117683, 176.40698], [94070, 173.90211]]   |\n",
      "|833          |[[125845, 261.29282], [162509, 211.07877], [91642, 209.26482], [90521, 200.1382], [39411, 183.05717], [132559, 174.52623], [50694, 170.21997], [147680, 165.52065], [82226, 135.1852], [93177, 130.17105]]   |\n",
      "|1088         |[[91642, 477.74738], [132559, 301.17938], [98323, 163.98624], [123867, 163.49843], [130593, 150.79263], [147680, 148.13669], [28504, 145.4549], [90521, 139.62958], [162509, 136.77386], [122151, 136.32388]]|\n",
      "|1238         |[[18266, 157.90025], [91642, 144.36684], [50694, 119.0692], [122151, 78.154465], [11315, 73.731895], [62883, 68.069824], [36371, 66.961914], [154520, 66.59154], [9336, 64.87565], [63740, 64.10445]]        |\n",
      "|1342         |[[132559, 215.22742], [32380, 146.98671], [123867, 143.82867], [40945, 137.36111], [117480, 121.496414], [36371, 117.13508], [91642, 107.41648], [21660, 107.31862], [98323, 104.51557], [46713, 104.25622]] |\n",
      "|1580         |[[132559, 347.78375], [98323, 195.82375], [159673, 132.96431], [51399, 103.85994], [64530, 102.61894], [162509, 90.60711], [90425, 89.49118], [23038, 87.83676], [36371, 78.12712], [36489, 73.4358]]        |\n",
      "|1591         |[[50694, 125.0975], [122151, 99.453705], [88869, 85.341286], [132559, 70.60342], [91642, 66.271194], [80202, 65.54762], [147680, 63.61119], [162509, 47.968006], [66419, 47.93394], [47290, 46.066273]]      |\n",
      "+-------------+-------------------------------------------------------------------------------------------------------------------------------------------------------------------------------------------------------------+\n",
      "only showing top 10 rows\n",
      "\n"
     ]
    }
   ],
   "source": [
    "# user_recs=model.recommendForAllUsers(10).show(10, truncate = False)"
   ]
  },
  {
   "cell_type": "code",
   "execution_count": 0,
   "metadata": {
    "colab": {},
    "colab_type": "code",
    "id": "skM3poAyKgfu"
   },
   "outputs": [],
   "source": [
    "recs=model.recommendForAllUsers(10).toPandas()"
   ]
  },
  {
   "cell_type": "code",
   "execution_count": 32,
   "metadata": {
    "colab": {
     "base_uri": "https://localhost:8080/",
     "height": 419
    },
    "colab_type": "code",
    "id": "7AiEvI4Bmnh3",
    "outputId": "d1e2733a-172c-4ab5-b92d-72783cab6741"
   },
   "outputs": [
    {
     "data": {
      "text/html": [
       "<div>\n",
       "<style scoped>\n",
       "    .dataframe tbody tr th:only-of-type {\n",
       "        vertical-align: middle;\n",
       "    }\n",
       "\n",
       "    .dataframe tbody tr th {\n",
       "        vertical-align: top;\n",
       "    }\n",
       "\n",
       "    .dataframe thead th {\n",
       "        text-align: right;\n",
       "    }\n",
       "</style>\n",
       "<table border=\"1\" class=\"dataframe\">\n",
       "  <thead>\n",
       "    <tr style=\"text-align: right;\">\n",
       "      <th></th>\n",
       "      <th>user_id_code</th>\n",
       "      <th>recommendations</th>\n",
       "    </tr>\n",
       "  </thead>\n",
       "  <tbody>\n",
       "    <tr>\n",
       "      <th>0</th>\n",
       "      <td>1580</td>\n",
       "      <td>[(226, 12.034584999084473), (990, 7.5423817634...</td>\n",
       "    </tr>\n",
       "    <tr>\n",
       "      <th>1</th>\n",
       "      <td>4900</td>\n",
       "      <td>[(226, 12.202627182006836), (339, 3.8053884506...</td>\n",
       "    </tr>\n",
       "    <tr>\n",
       "      <th>2</th>\n",
       "      <td>6620</td>\n",
       "      <td>[(226, 93.89700317382812), (643, 57.0851860046...</td>\n",
       "    </tr>\n",
       "    <tr>\n",
       "      <th>3</th>\n",
       "      <td>7340</td>\n",
       "      <td>[(704, 114.73605346679688), (226, 99.090141296...</td>\n",
       "    </tr>\n",
       "    <tr>\n",
       "      <th>4</th>\n",
       "      <td>7880</td>\n",
       "      <td>[(226, 47.703304290771484), (704, 34.140014648...</td>\n",
       "    </tr>\n",
       "    <tr>\n",
       "      <th>...</th>\n",
       "      <td>...</td>\n",
       "      <td>...</td>\n",
       "    </tr>\n",
       "    <tr>\n",
       "      <th>13134</th>\n",
       "      <td>6438</td>\n",
       "      <td>[(226, 40.68645477294922), (792, 13.7023382186...</td>\n",
       "    </tr>\n",
       "    <tr>\n",
       "      <th>13135</th>\n",
       "      <td>15908</td>\n",
       "      <td>[(226, 11.6093168258667), (120, 6.681258678436...</td>\n",
       "    </tr>\n",
       "    <tr>\n",
       "      <th>13136</th>\n",
       "      <td>89</td>\n",
       "      <td>[(226, 4.944281578063965), (979, 2.78582954406...</td>\n",
       "    </tr>\n",
       "    <tr>\n",
       "      <th>13137</th>\n",
       "      <td>7999</td>\n",
       "      <td>[(226, 67.30372619628906), (990, 64.1438751220...</td>\n",
       "    </tr>\n",
       "    <tr>\n",
       "      <th>13138</th>\n",
       "      <td>14879</td>\n",
       "      <td>[(226, 9.831428527832031), (704, 4.22424602508...</td>\n",
       "    </tr>\n",
       "  </tbody>\n",
       "</table>\n",
       "<p>13139 rows × 2 columns</p>\n",
       "</div>"
      ],
      "text/plain": [
       "       user_id_code                                    recommendations\n",
       "0              1580  [(226, 12.034584999084473), (990, 7.5423817634...\n",
       "1              4900  [(226, 12.202627182006836), (339, 3.8053884506...\n",
       "2              6620  [(226, 93.89700317382812), (643, 57.0851860046...\n",
       "3              7340  [(704, 114.73605346679688), (226, 99.090141296...\n",
       "4              7880  [(226, 47.703304290771484), (704, 34.140014648...\n",
       "...             ...                                                ...\n",
       "13134          6438  [(226, 40.68645477294922), (792, 13.7023382186...\n",
       "13135         15908  [(226, 11.6093168258667), (120, 6.681258678436...\n",
       "13136            89  [(226, 4.944281578063965), (979, 2.78582954406...\n",
       "13137          7999  [(226, 67.30372619628906), (990, 64.1438751220...\n",
       "13138         14879  [(226, 9.831428527832031), (704, 4.22424602508...\n",
       "\n",
       "[13139 rows x 2 columns]"
      ]
     },
     "execution_count": 32,
     "metadata": {
      "tags": []
     },
     "output_type": "execute_result"
    }
   ],
   "source": [
    "recs"
   ]
  },
  {
   "cell_type": "code",
   "execution_count": 33,
   "metadata": {
    "colab": {
     "base_uri": "https://localhost:8080/",
     "height": 34
    },
    "colab_type": "code",
    "id": "P8-lZYvERY3i",
    "outputId": "3634d7f3-8a91-4918-c5be-828188d7e173"
   },
   "outputs": [
    {
     "data": {
      "text/plain": [
       "(13139, 2)"
      ]
     },
     "execution_count": 33,
     "metadata": {
      "tags": []
     },
     "output_type": "execute_result"
    }
   ],
   "source": [
    "recs.shape"
   ]
  },
  {
   "cell_type": "code",
   "execution_count": 0,
   "metadata": {
    "colab": {},
    "colab_type": "code",
    "id": "FZ7pGPqH6KWM"
   },
   "outputs": [],
   "source": [
    "song_df = pd.read_csv('/content/gdrive/My Drive/MscsDs/MillionSongSubset/msd.csv')"
   ]
  },
  {
   "cell_type": "code",
   "execution_count": 35,
   "metadata": {
    "colab": {
     "base_uri": "https://localhost:8080/",
     "height": 615
    },
    "colab_type": "code",
    "id": "eTlNUFt46Pe8",
    "outputId": "447047ff-0873-462d-a454-6b6f16529bf5"
   },
   "outputs": [
    {
     "data": {
      "text/html": [
       "<div>\n",
       "<style scoped>\n",
       "    .dataframe tbody tr th:only-of-type {\n",
       "        vertical-align: middle;\n",
       "    }\n",
       "\n",
       "    .dataframe tbody tr th {\n",
       "        vertical-align: top;\n",
       "    }\n",
       "\n",
       "    .dataframe thead th {\n",
       "        text-align: right;\n",
       "    }\n",
       "</style>\n",
       "<table border=\"1\" class=\"dataframe\">\n",
       "  <thead>\n",
       "    <tr style=\"text-align: right;\">\n",
       "      <th></th>\n",
       "      <th>Unnamed: 0</th>\n",
       "      <th>Unnamed: 0.1</th>\n",
       "      <th>song_ids</th>\n",
       "      <th>song_titles</th>\n",
       "      <th>song_durations</th>\n",
       "      <th>song_realease_years</th>\n",
       "      <th>artist_names</th>\n",
       "      <th>song_hotness</th>\n",
       "      <th>song_tempo</th>\n",
       "      <th>song_energies</th>\n",
       "      <th>song_danceability</th>\n",
       "      <th>song_bars</th>\n",
       "      <th>song_beats</th>\n",
       "      <th>song_time_signatures</th>\n",
       "      <th>song_tatum</th>\n",
       "      <th>song_modes</th>\n",
       "      <th>song_keys</th>\n",
       "      <th>artist_familiarty</th>\n",
       "      <th>artist_hotness</th>\n",
       "    </tr>\n",
       "  </thead>\n",
       "  <tbody>\n",
       "    <tr>\n",
       "      <th>0</th>\n",
       "      <td>0</td>\n",
       "      <td>0</td>\n",
       "      <td>SONHTWP12A8C142744</td>\n",
       "      <td>Vals '89</td>\n",
       "      <td>162.58567</td>\n",
       "      <td>0</td>\n",
       "      <td>Manolis Famellos &amp; I Podilates</td>\n",
       "      <td>NaN</td>\n",
       "      <td>94.301</td>\n",
       "      <td>0.0</td>\n",
       "      <td>0.0</td>\n",
       "      <td>[  1.45502   3.39383   5.32826   7.25953   9.1...</td>\n",
       "      <td>[  0.16441   0.80395   1.45502   2.09102   2.7...</td>\n",
       "      <td>3</td>\n",
       "      <td>[  0.16441   0.48418   0.80395   1.13522   1.4...</td>\n",
       "      <td>1</td>\n",
       "      <td>0</td>\n",
       "      <td>0.228730</td>\n",
       "      <td>0.000000</td>\n",
       "    </tr>\n",
       "    <tr>\n",
       "      <th>1</th>\n",
       "      <td>1</td>\n",
       "      <td>1</td>\n",
       "      <td>SOPIHMB12AC468E0DD</td>\n",
       "      <td>Ghost of the Ocean (Live)</td>\n",
       "      <td>214.25587</td>\n",
       "      <td>0</td>\n",
       "      <td>Uriah Heep</td>\n",
       "      <td>0.2502</td>\n",
       "      <td>149.921</td>\n",
       "      <td>0.0</td>\n",
       "      <td>0.0</td>\n",
       "      <td>[  1.20218   2.80457   4.39266   5.98514   7.5...</td>\n",
       "      <td>[  0.38752   0.79653   1.20218   1.60244   2.0...</td>\n",
       "      <td>4</td>\n",
       "      <td>[  0.2523    0.38752   0.52273 ... 212.97102 2...</td>\n",
       "      <td>1</td>\n",
       "      <td>7</td>\n",
       "      <td>0.673239</td>\n",
       "      <td>0.479205</td>\n",
       "    </tr>\n",
       "    <tr>\n",
       "      <th>2</th>\n",
       "      <td>2</td>\n",
       "      <td>2</td>\n",
       "      <td>SODRPJT12AC468DEF1</td>\n",
       "      <td>The frog song</td>\n",
       "      <td>169.87383</td>\n",
       "      <td>0</td>\n",
       "      <td>Alain-François</td>\n",
       "      <td>NaN</td>\n",
       "      <td>136.044</td>\n",
       "      <td>0.0</td>\n",
       "      <td>0.0</td>\n",
       "      <td>[  1.37397   4.48312   7.56804  10.65675  13.7...</td>\n",
       "      <td>[  0.48609   0.93058   1.37397   1.81958   2.2...</td>\n",
       "      <td>7</td>\n",
       "      <td>[  0.26328   0.48609   0.70778   0.93058   1.1...</td>\n",
       "      <td>1</td>\n",
       "      <td>2</td>\n",
       "      <td>0.380317</td>\n",
       "      <td>0.300918</td>\n",
       "    </tr>\n",
       "    <tr>\n",
       "      <th>3</th>\n",
       "      <td>3</td>\n",
       "      <td>3</td>\n",
       "      <td>SOLLOTO12AB01804C6</td>\n",
       "      <td>Deep Blue Sea (Daniel Rossen home recording)</td>\n",
       "      <td>351.50322</td>\n",
       "      <td>2008</td>\n",
       "      <td>Grizzly Bear</td>\n",
       "      <td>NaN</td>\n",
       "      <td>85.003</td>\n",
       "      <td>0.0</td>\n",
       "      <td>0.0</td>\n",
       "      <td>[  0.72449   3.55798   6.37712   9.20176  12.0...</td>\n",
       "      <td>[  0.72449   1.43405   2.1445    2.85228   3.5...</td>\n",
       "      <td>4</td>\n",
       "      <td>[1.8653000e-01 3.6881000e-01 5.4665000e-01 ......</td>\n",
       "      <td>1</td>\n",
       "      <td>9</td>\n",
       "      <td>0.760636</td>\n",
       "      <td>0.547244</td>\n",
       "    </tr>\n",
       "    <tr>\n",
       "      <th>4</th>\n",
       "      <td>4</td>\n",
       "      <td>4</td>\n",
       "      <td>SOCNYGS12AB01832B8</td>\n",
       "      <td>La vérité</td>\n",
       "      <td>252.44689</td>\n",
       "      <td>2007</td>\n",
       "      <td>Annie Blanchard</td>\n",
       "      <td>0.0000</td>\n",
       "      <td>113.287</td>\n",
       "      <td>0.0</td>\n",
       "      <td>0.0</td>\n",
       "      <td>[2.2334000e-01 2.3324800e+00 4.4484000e+00 6.5...</td>\n",
       "      <td>[2.2334000e-01 7.5000000e-01 1.2775800e+00 1.8...</td>\n",
       "      <td>4</td>\n",
       "      <td>[2.2334000e-01 3.9890000e-01 5.7445000e-01 ......</td>\n",
       "      <td>1</td>\n",
       "      <td>5</td>\n",
       "      <td>0.479735</td>\n",
       "      <td>0.352460</td>\n",
       "    </tr>\n",
       "  </tbody>\n",
       "</table>\n",
       "</div>"
      ],
      "text/plain": [
       "   Unnamed: 0  Unnamed: 0.1  ... artist_familiarty artist_hotness\n",
       "0           0             0  ...          0.228730       0.000000\n",
       "1           1             1  ...          0.673239       0.479205\n",
       "2           2             2  ...          0.380317       0.300918\n",
       "3           3             3  ...          0.760636       0.547244\n",
       "4           4             4  ...          0.479735       0.352460\n",
       "\n",
       "[5 rows x 19 columns]"
      ]
     },
     "execution_count": 35,
     "metadata": {
      "tags": []
     },
     "output_type": "execute_result"
    }
   ],
   "source": [
    "song_df.head()"
   ]
  },
  {
   "cell_type": "code",
   "execution_count": 41,
   "metadata": {
    "colab": {
     "base_uri": "https://localhost:8080/",
     "height": 527
    },
    "colab_type": "code",
    "id": "yhmzMcDr9syW",
    "outputId": "a4d0fcc8-21d5-469d-ba2c-cc42ea7e973e"
   },
   "outputs": [
    {
     "name": "stdout",
     "output_type": "stream",
     "text": [
      " Recommendation to user  1580  : \n",
      "   Song:  Till There Was You (John Creamer & Stephane K Remix)\n",
      "   Artist:  Rachael Starr\n",
      " Recommendation to user  1580  : \n",
      "   Song:  Are You There (With Another Girl)\n",
      "   Artist:  Burt Bacharach\n",
      " Recommendation to user  1580  : \n",
      "   Song:  The Dynamo Of Volition [From An All Night Session]\n",
      "   Artist:  Jason Mraz\n",
      " Recommendation to user  1580  : \n",
      "   Song:  La mujer que no sone (Album)\n",
      "   Artist:  Ricardo Arjona\n",
      " Recommendation to user  1580  : \n",
      "   Song:  Mas P**' (America'S Mexican)\n",
      "   Artist:  George Lopez\n",
      " Recommendation to user  1580  : \n",
      "   Song:  Love Ain't No Stranger (2003 Digital Remaster)\n",
      "   Artist:  Whitesnake\n",
      " Recommendation to user  1580  : \n",
      "   Song:  Illuminate\n",
      "   Artist:  Orbital\n",
      " Recommendation to user  1580  : \n",
      "   Song:  Song From Moulin Rouge\n",
      "   Artist:  Percy Faith & His Orchestra\n",
      " Recommendation to user  1580  : \n",
      "   Song:  Camino\n",
      "   Artist:  Gipsy Kings\n",
      " Recommendation to user  1580  : \n",
      "   Song:  Set The World On Fire\n",
      "   Artist:  Britt Nicole\n"
     ]
    }
   ],
   "source": [
    "count = 0\n",
    "song_id_found = set()\n",
    "for recValue in recs.values:\n",
    "    for item in recValue[1]:\n",
    "      row = frame.loc[frame['song_id_code'] == item.song_id_code]\n",
    "      song_id = row.song_ids.values[0]\n",
    "      if ( song_id not in song_id_found) and (song_df.loc[ song_df['song_ids'] == song_id].shape[0] == 1):\n",
    "        rowDetails = song_df.loc[ song_df['song_ids'] == song_id]\n",
    "        print(\" Recommendation to user \", recValue[0], \" : \")\n",
    "        print(\"   Song: \", rowDetails.song_titles.values[0])  \n",
    "        print(\"   Artist: \",  rowDetails.artist_names.values[0])\n",
    "        song_id_found.add(song_id)\n",
    "        count += 20\n",
    "        \n",
    "    if count > 20:\n",
    "      break"
   ]
  },
  {
   "cell_type": "code",
   "execution_count": 42,
   "metadata": {
    "colab": {
     "base_uri": "https://localhost:8080/",
     "height": 714
    },
    "colab_type": "code",
    "id": "WyW00de2BjBT",
    "outputId": "0b8f9789-97e5-4ee1-ebe0-6b16f5e91386"
   },
   "outputs": [
    {
     "name": "stdout",
     "output_type": "stream",
     "text": [
      " Recommendation to user 148 : \n",
      "\n",
      "   Song ID:  SODUSRP12A6D4FA762\n",
      "     Song:  Till There Was You (John Creamer & Stephane K Remix)\n",
      "     Artist:  Rachael Starr\n",
      "\n",
      "   Song ID:  SONCQTI12A8AE477B2\n",
      "     Song:  Mas P**' (America'S Mexican)\n",
      "     Artist:  George Lopez\n",
      "\n",
      "   Song ID:  SOPHJIS12AC3DF5FA3\n",
      "     Song:  La mujer que no sone (Album)\n",
      "     Artist:  Ricardo Arjona\n",
      "\n",
      "   Song ID:  SOCDAIR12A8C131F89\n",
      "     Song:  The Dynamo Of Volition [From An All Night Session]\n",
      "     Artist:  Jason Mraz\n",
      "\n",
      "   Song ID:  SOTMGME12AB017F79B\n",
      "     Song:  Are You There (With Another Girl)\n",
      "     Artist:  Burt Bacharach\n",
      "\n",
      "   Song ID:  SOLTZTZ12A58A7A84F\n",
      "     Song:  Best Friends\n",
      "     Artist:  Kieran\n",
      "\n",
      "   Song ID:  SOOBUUM12A8C13696A\n",
      "     Song:  Telling Me Lies\n",
      "     Artist:  Dolores Keane\n",
      "\n",
      "   Song ID:  SOGLETQ12AB0186E93\n",
      "     Song:  Pose No Threat\n",
      "     Artist:  Lunasicc\n",
      "\n",
      "   Song ID:  SOGEQKA12A6D4FA27C\n",
      "     Song:  Love Ain't No Stranger (2003 Digital Remaster)\n",
      "     Artist:  Whitesnake\n",
      "\n",
      "   Song ID:  SOITOFS12A81C21D00\n",
      "     Song:  Camino\n",
      "     Artist:  Gipsy Kings\n"
     ]
    }
   ],
   "source": [
    "print(\" Recommendation to user 148 : \")\n",
    "for recom in recs.query('user_id_code == 148').recommendations:\n",
    "  for item in recom:\n",
    "    row = frame.loc[frame['song_id_code'] == item.song_id_code]\n",
    "    print(\"\\n   Song ID: \", row.song_ids.values[0])\n",
    "    song_id = row.song_ids.values[0]\n",
    "    if song_df.loc[ song_df['song_ids'] == song_id].shape[0] == 1:\n",
    "      rowDetails = song_df.loc[ song_df['song_ids'] == song_id]\n",
    "      print(\"     Song: \", rowDetails.song_titles.values[0])  \n",
    "      print(\"     Artist: \",  rowDetails.artist_names.values[0])"
   ]
  },
  {
   "cell_type": "code",
   "execution_count": 45,
   "metadata": {
    "colab": {
     "base_uri": "https://localhost:8080/",
     "height": 714
    },
    "colab_type": "code",
    "id": "KgKOnwXg7xXH",
    "outputId": "51efbb7f-09a8-4fe6-baca-013043748d19"
   },
   "outputs": [
    {
     "name": "stdout",
     "output_type": "stream",
     "text": [
      " Recommendation to user 6438 : \n",
      "\n",
      "   Song ID:  SODUSRP12A6D4FA762\n",
      "     Song:  Till There Was You (John Creamer & Stephane K Remix)\n",
      "     Artist:  Rachael Starr\n",
      "\n",
      "   Song ID:  SOPHJIS12AC3DF5FA3\n",
      "     Song:  La mujer que no sone (Album)\n",
      "     Artist:  Ricardo Arjona\n",
      "\n",
      "   Song ID:  SOGLETQ12AB0186E93\n",
      "     Song:  Pose No Threat\n",
      "     Artist:  Lunasicc\n",
      "\n",
      "   Song ID:  SOVFRDB12AB017FF3A\n",
      "     Song:  Got It Twisted\n",
      "     Artist:  Mobb Deep\n",
      "\n",
      "   Song ID:  SOTHZUA12A8C13268A\n",
      "     Song:  All I Ask For (Album Version)\n",
      "     Artist:  Ill Nino\n",
      "\n",
      "   Song ID:  SOZAQVA12AB0183627\n",
      "     Song:  Eight More Miles To Louisville\n",
      "     Artist:  Jim Kweskin\n",
      "\n",
      "   Song ID:  SOITOFS12A81C21D00\n",
      "     Song:  Camino\n",
      "     Artist:  Gipsy Kings\n",
      "\n",
      "   Song ID:  SONCQTI12A8AE477B2\n",
      "     Song:  Mas P**' (America'S Mexican)\n",
      "     Artist:  George Lopez\n",
      "\n",
      "   Song ID:  SOVMKKT12A58A7F0CC\n",
      "     Song:  Love Unlimited (Explicit)\n",
      "     Artist:  Fun Lovin' Criminals\n",
      "\n",
      "   Song ID:  SOCDAIR12A8C131F89\n",
      "     Song:  The Dynamo Of Volition [From An All Night Session]\n",
      "     Artist:  Jason Mraz\n"
     ]
    }
   ],
   "source": [
    "print(\" Recommendation to user 6438 : \")\n",
    "for recom in recs.query('user_id_code == 6438').recommendations:\n",
    "  for item in recom:\n",
    "    row = frame.loc[frame['song_id_code'] == item.song_id_code]\n",
    "    print(\"\\n   Song ID: \", row.song_ids.values[0])\n",
    "    song_id = row.song_ids.values[0]\n",
    "    if song_df.loc[ song_df['song_ids'] == song_id].shape[0] == 1:\n",
    "      rowDetails = song_df.loc[ song_df['song_ids'] == song_id]\n",
    "      print(\"     Song: \", rowDetails.song_titles.values[0])  \n",
    "      print(\"     Artist: \",  rowDetails.artist_names.values[0])"
   ]
  },
  {
   "cell_type": "code",
   "execution_count": 0,
   "metadata": {
    "colab": {},
    "colab_type": "code",
    "id": "cuYEjO_xDOPn"
   },
   "outputs": [],
   "source": [
    "rec_item = model.recommendForAllItems(10).toPandas()"
   ]
  },
  {
   "cell_type": "code",
   "execution_count": 46,
   "metadata": {
    "colab": {
     "base_uri": "https://localhost:8080/",
     "height": 419
    },
    "colab_type": "code",
    "id": "rJdU43jpDi7c",
    "outputId": "438d8b85-4eee-4304-9135-0c2fccd04002"
   },
   "outputs": [
    {
     "data": {
      "text/html": [
       "<div>\n",
       "<style scoped>\n",
       "    .dataframe tbody tr th:only-of-type {\n",
       "        vertical-align: middle;\n",
       "    }\n",
       "\n",
       "    .dataframe tbody tr th {\n",
       "        vertical-align: top;\n",
       "    }\n",
       "\n",
       "    .dataframe thead th {\n",
       "        text-align: right;\n",
       "    }\n",
       "</style>\n",
       "<table border=\"1\" class=\"dataframe\">\n",
       "  <thead>\n",
       "    <tr style=\"text-align: right;\">\n",
       "      <th></th>\n",
       "      <th>song_id_code</th>\n",
       "      <th>recommendations</th>\n",
       "    </tr>\n",
       "  </thead>\n",
       "  <tbody>\n",
       "    <tr>\n",
       "      <th>0</th>\n",
       "      <td>471</td>\n",
       "      <td>[(6241, 18.191701889038086), (424, 14.06768226...</td>\n",
       "    </tr>\n",
       "    <tr>\n",
       "      <th>1</th>\n",
       "      <td>463</td>\n",
       "      <td>[(424, 17.405658721923828), (1907, 15.71860694...</td>\n",
       "    </tr>\n",
       "    <tr>\n",
       "      <th>2</th>\n",
       "      <td>833</td>\n",
       "      <td>[(12902, 39.05113220214844), (117, 29.65908813...</td>\n",
       "    </tr>\n",
       "    <tr>\n",
       "      <th>3</th>\n",
       "      <td>496</td>\n",
       "      <td>[(6241, 13.5421142578125), (6223, 12.761930465...</td>\n",
       "    </tr>\n",
       "    <tr>\n",
       "      <th>4</th>\n",
       "      <td>148</td>\n",
       "      <td>[(6241, 227.50213623046875), (13241, 131.88528...</td>\n",
       "    </tr>\n",
       "    <tr>\n",
       "      <th>...</th>\n",
       "      <td>...</td>\n",
       "      <td>...</td>\n",
       "    </tr>\n",
       "    <tr>\n",
       "      <th>1204</th>\n",
       "      <td>401</td>\n",
       "      <td>[(6241, 36.72122573852539), (424, 23.037067413...</td>\n",
       "    </tr>\n",
       "    <tr>\n",
       "      <th>1205</th>\n",
       "      <td>422</td>\n",
       "      <td>[(6241, 21.395238876342773), (424, 19.07993888...</td>\n",
       "    </tr>\n",
       "    <tr>\n",
       "      <th>1206</th>\n",
       "      <td>517</td>\n",
       "      <td>[(12902, 30.867374420166016), (117, 23.4435768...</td>\n",
       "    </tr>\n",
       "    <tr>\n",
       "      <th>1207</th>\n",
       "      <td>1138</td>\n",
       "      <td>[(12902, 35.97333908081055), (424, 33.69433212...</td>\n",
       "    </tr>\n",
       "    <tr>\n",
       "      <th>1208</th>\n",
       "      <td>89</td>\n",
       "      <td>[(6241, 26.182523727416992), (13241, 15.178276...</td>\n",
       "    </tr>\n",
       "  </tbody>\n",
       "</table>\n",
       "<p>1209 rows × 2 columns</p>\n",
       "</div>"
      ],
      "text/plain": [
       "      song_id_code                                    recommendations\n",
       "0              471  [(6241, 18.191701889038086), (424, 14.06768226...\n",
       "1              463  [(424, 17.405658721923828), (1907, 15.71860694...\n",
       "2              833  [(12902, 39.05113220214844), (117, 29.65908813...\n",
       "3              496  [(6241, 13.5421142578125), (6223, 12.761930465...\n",
       "4              148  [(6241, 227.50213623046875), (13241, 131.88528...\n",
       "...            ...                                                ...\n",
       "1204           401  [(6241, 36.72122573852539), (424, 23.037067413...\n",
       "1205           422  [(6241, 21.395238876342773), (424, 19.07993888...\n",
       "1206           517  [(12902, 30.867374420166016), (117, 23.4435768...\n",
       "1207          1138  [(12902, 35.97333908081055), (424, 33.69433212...\n",
       "1208            89  [(6241, 26.182523727416992), (13241, 15.178276...\n",
       "\n",
       "[1209 rows x 2 columns]"
      ]
     },
     "execution_count": 46,
     "metadata": {
      "tags": []
     },
     "output_type": "execute_result"
    }
   ],
   "source": [
    "rec_item"
   ]
  },
  {
   "cell_type": "code",
   "execution_count": 0,
   "metadata": {
    "colab": {},
    "colab_type": "code",
    "id": "eSpkj5-BNZqc"
   },
   "outputs": [],
   "source": [
    "# print(\" Recommendation for 1138 : \")\n",
    "# for recom in rec_item.query('song_id_code == 1138').recommendations:\n",
    "#   for item in recom:\n",
    "#     row = frame.loc[frame['user_id_code'] == item.user_id_code]\n",
    "#     print(\"\\n   user_id ID: \", row.user_id.values[0])\n",
    "#     user_id = row.user_id.values[0]\n",
    "#     if frame.loc[ frame['user_id'] == user_id].shape[0] > 0:\n",
    "#       rowDetails = frame.loc[ frame['user_id'] == song_id]\n",
    "#       print(rowDetails.values)\n",
    "#       print(\"     Song: \", rowDetails.song_titles.values[0])  \n",
    "#       print(\"     Artist: \",  rowDetails.artist_names.values[0])"
   ]
  }
 ],
 "metadata": {
  "accelerator": "GPU",
  "colab": {
   "collapsed_sections": [],
   "name": "Subset_Spark_ALS.ipynb",
   "provenance": []
  },
  "kernelspec": {
   "display_name": "Python 3",
   "language": "python",
   "name": "python3"
  }
 },
 "nbformat": 4,
 "nbformat_minor": 1
}
